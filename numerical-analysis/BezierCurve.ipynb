{
 "cells": [
  {
   "cell_type": "code",
   "execution_count": 1,
   "metadata": {},
   "outputs": [],
   "source": [
    "import matplotlib.pyplot as plt\n",
    "import numpy as np"
   ]
  },
  {
   "cell_type": "code",
   "execution_count": 38,
   "metadata": {},
   "outputs": [],
   "source": [
    "script = [\n",
    "    [(15,14),(15,10),(25,20),(20,25)],\n",
    "    [(20,25),(15,30),(4,10),(6,6)],\n",
    "    [(6,6),(15,-2),(40,45),(55,55)],\n",
    "    [(55,55),(45,40),(37,15),(37,5)],\n",
    "    [(37,5),(40,15),(45,30),(33,33)],\n",
    "    [(33,33),(25,25),(40,5),(47,11)]\n",
    "]"
   ]
  },
  {
   "cell_type": "code",
   "execution_count": 39,
   "metadata": {},
   "outputs": [],
   "source": [
    "#b\n",
    "def BezierCurve(x,y):\n",
    "    n = len(x) - 1\n",
    "    a_x = x[0]\n",
    "    a_y = y[0]\n",
    "    b_x = n*(x[1]-x[0])\n",
    "    b_y = n*(y[1]-y[0])\n",
    "    c_x = n*(x[2]-x[1]) - b_x\n",
    "    c_y = n*(y[2]-y[1]) - b_x\n",
    "    d_x = x[3] - x[0] - b_x-c_x\n",
    "    d_y = y[3] - y[0] - b_y-c_y\n",
    "    x_res = []\n",
    "    y_res = []\n",
    "    steps = np.arange(0.0, 1.0, 0.1)\n",
    "    for t in steps:\n",
    "        x_i = a_x+b_x*t+c_x*(t**2) + d_x*(t**3)\n",
    "        y_i = a_y+b_y*t+c_y*(t**2) + d_y*(t**3)\n",
    "        x_res.append(x_i)\n",
    "        y_res.append(y_i)\n",
    "    return x_res, y_res\n",
    "\n",
    "    "
   ]
  },
  {
   "cell_type": "code",
   "execution_count": 41,
   "metadata": {},
   "outputs": [
    {
     "data": {
      "text/plain": [
       "[<matplotlib.lines.Line2D at 0x11322a278>]"
      ]
     },
     "execution_count": 41,
     "metadata": {},
     "output_type": "execute_result"
    },
    {
     "data": {
      "image/png": "[encoded data removed]",
      "text/plain": [
       "<Figure size 432x288 with 1 Axes>"
      ]
     },
     "metadata": {
      "needs_background": "light"
     },
     "output_type": "display_data"
    }
   ],
   "source": [
    "#c\n",
    "newX = []\n",
    "newY = []\n",
    "for row in script:\n",
    "    x = [a[0] for a in row]\n",
    "    y = [a[1] for a in row]\n",
    "    x,y = BezierCurve(x,y)\n",
    "    newX = newX+x\n",
    "    newY = newY+y\n",
    "    \n",
    "plt.plot(newX, newY, color=\"red\", linewidth=2.5)\n",
    "\n"
   ]
  },
  {
   "cell_type": "code",
   "execution_count": null,
   "metadata": {},
   "outputs": [],
   "source": []
  }
 ],
 "metadata": {
  "kernelspec": {
   "display_name": "Python 3",
   "language": "python",
   "name": "python3"
  },
  "language_info": {
   "codemirror_mode": {
    "name": "ipython",
    "version": 3
   },
   "file_extension": ".py",
   "mimetype": "text/x-python",
   "name": "python",
   "nbconvert_exporter": "python",
   "pygments_lexer": "ipython3",
   "version": "3.7.2"
  }
 },
 "nbformat": 4,
 "nbformat_minor": 2
}
