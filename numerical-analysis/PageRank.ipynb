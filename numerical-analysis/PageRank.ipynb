{
 "cells": [
  {
   "cell_type": "code",
   "execution_count": 1,
   "metadata": {},
   "outputs": [],
   "source": [
    "# Helper GE function from q4\n",
    "def GE(A,b):\n",
    "    n = len(A)\n",
    "    U=A.copy()\n",
    "    L=[[0]*n for i in range(n)]\n",
    "    for i in range(n):\n",
    "        L[i][i]= 1\n",
    "    for i in range(n):\n",
    "        aii = U[i][i]\n",
    "        for j in range(i+1,n):\n",
    "            aji = U[j][i]\n",
    "            L[j][i] = aji/aii\n",
    "            for k in range(n):\n",
    "                U[j][k] = -U[i][k]*aji/aii+U[j][k]\n",
    "    #forwardsolve Ly=b\n",
    "    y=[0]*n\n",
    "    for i in range(n):\n",
    "        y[i] = b[i]\n",
    "        for j in range(i):\n",
    "            y[i] = y[i] - L[i][j]*y[j]\n",
    "            \n",
    "    #backward solve Ux = y\n",
    "    x=[0]*n\n",
    "    for i in range(n-1,-1,-1):\n",
    "        x[i] = y[i]\n",
    "        for j in range(i+1,n):\n",
    "            x[i] = x[i] - U[i][j]*x[j]\n",
    "        x[i] = x[i]/U[i][i]   \n",
    "    return [x,L,U]"
   ]
  },
  {
   "cell_type": "markdown",
   "metadata": {},
   "source": [
    "# a"
   ]
  },
  {
   "cell_type": "code",
   "execution_count": 2,
   "metadata": {},
   "outputs": [],
   "source": [
    "\n",
    "import numpy as np\n",
    "def PageRank(G, alpha):\n",
    "    P = G/G.sum(0)\n",
    "    n = len(G)\n",
    "    A = np.identity(n) - alpha*P\n",
    "    b = np.empty(n)\n",
    "    b.fill((1-alpha)/n)\n",
    "    x,L,U = GE(A,b)\n",
    "    return x"
   ]
  },
  {
   "cell_type": "markdown",
   "metadata": {},
   "source": [
    "# b"
   ]
  },
  {
   "cell_type": "code",
   "execution_count": 25,
   "metadata": {},
   "outputs": [
    {
     "data": {
      "text/plain": [
       "array([[0., 0., 0., 0., 1., 0., 0., 0., 0., 0., 0., 0., 0., 0., 0.],\n",
       "       [1., 0., 1., 0., 0., 0., 0., 0., 0., 0., 0., 0., 0., 0., 0.],\n",
       "       [0., 1., 0., 1., 0., 0., 0., 0., 0., 0., 0., 0., 0., 0., 0.],\n",
       "       [0., 0., 0., 0., 0., 0., 0., 1., 0., 0., 0., 0., 0., 0., 0.],\n",
       "       [0., 1., 0., 0., 0., 0., 0., 0., 1., 0., 0., 0., 0., 0., 0.],\n",
       "       [0., 0., 1., 0., 0., 0., 0., 0., 1., 0., 0., 0., 0., 0., 0.],\n",
       "       [0., 1., 0., 0., 0., 0., 0., 0., 0., 0., 0., 1., 0., 0., 0.],\n",
       "       [0., 0., 1., 0., 0., 0., 0., 0., 0., 0., 0., 1., 0., 0., 0.],\n",
       "       [1., 0., 0., 0., 0., 0., 0., 0., 0., 0., 0., 0., 0., 0., 0.],\n",
       "       [0., 0., 0., 0., 1., 1., 1., 0., 1., 0., 0., 0., 0., 1., 0.],\n",
       "       [0., 0., 0., 0., 0., 1., 1., 1., 0., 0., 0., 1., 0., 1., 0.],\n",
       "       [0., 0., 0., 1., 0., 0., 0., 0., 0., 0., 0., 0., 0., 0., 1.],\n",
       "       [0., 0., 0., 0., 0., 0., 0., 0., 1., 1., 0., 0., 0., 1., 0.],\n",
       "       [0., 0., 0., 0., 0., 0., 0., 0., 0., 0., 0., 0., 1., 0., 1.],\n",
       "       [0., 0., 0., 0., 0., 0., 0., 0., 0., 0., 1., 0., 0., 1., 0.]])"
      ]
     },
     "execution_count": 25,
     "metadata": {},
     "output_type": "execute_result"
    }
   ],
   "source": [
    "import numpy as np\n",
    "M = np.zeros((15,15))\n",
    "M[0][4] = 1\n",
    "M[1][2] = 1\n",
    "M[1][0] = 1\n",
    "M[2][1] = 1\n",
    "M[2][3] = 1\n",
    "M[3][7] = 1\n",
    "M[4][8] = 1\n",
    "M[4][1] = 1\n",
    "M[5][8] = 1\n",
    "M[5][2] = 1\n",
    "M[6][1] = 1\n",
    "M[6][11] = 1\n",
    "M[7][2] = 1\n",
    "M[7][11] = 1\n",
    "M[8][0] = 1\n",
    "M[9][8] = 1\n",
    "M[9][4] = 1\n",
    "M[9][5] = 1\n",
    "M[9][6] = 1\n",
    "M[9][13] = 1\n",
    "M[10][5] = 1\n",
    "M[10][6] = 1\n",
    "M[10][7] = 1\n",
    "M[10][11] = 1\n",
    "M[10][13] = 1\n",
    "M[11][3] = 1\n",
    "M[11][14] = 1\n",
    "M[12][8] = 1\n",
    "M[12][9] = 1\n",
    "M[12][13] = 1\n",
    "M[13][12] = 1\n",
    "M[13][14] = 1\n",
    "M[14][13] = 1\n",
    "M[14][10] = 1\n",
    "M"
   ]
  },
  {
   "cell_type": "markdown",
   "metadata": {},
   "source": [
    "# c"
   ]
  },
  {
   "cell_type": "code",
   "execution_count": 26,
   "metadata": {},
   "outputs": [
    {
     "name": "stdout",
     "output_type": "stream",
     "text": [
      "vector x: \n",
      " [0.019068724942411148, 0.02643893687196544, 0.029416689781555424, 0.02806037098313384, 0.02133817633508505, 0.02218187299280221, 0.04165129389083305, 0.04249499054855021, 0.018104208100524738, 0.08874864076363398, 0.11805340436010467, 0.08527151215450414, 0.12798716454476672, 0.18213494434972397, 0.14904906938040532]\n",
      "\n",
      "final rank: \n",
      " [14, 15, 13, 11, 10, 12, 8, 7, 3, 4, 2, 6, 5, 1, 9]\n"
     ]
    }
   ],
   "source": [
    "x= PageRank(M, 0.85)\n",
    "print(\"vector x: \\n\", x)\n",
    "print()\n",
    "l = [a for a in enumerate(x)]\n",
    "l.sort(key=lambda x:x[1], reverse=True)\n",
    "l=[x[0]+1 for x in l]\n",
    "print(\"final rank: \\n\", l)"
   ]
  },
  {
   "cell_type": "markdown",
   "metadata": {},
   "source": [
    "# d"
   ]
  },
  {
   "cell_type": "code",
   "execution_count": 27,
   "metadata": {},
   "outputs": [
    {
     "name": "stdout",
     "output_type": "stream",
     "text": [
      "vector x: \n",
      " [0.045297758607428865, 0.05365287683939997, 0.05397062312525654, 0.04678057460809285, 0.04785770109638214, 0.04791065881069158, 0.05373600738472864, 0.05378896509903807, 0.04465777298519054, 0.08947767615737037, 0.09683879844638085, 0.0687631674689719, 0.09684042241310498, 0.10548823502350117, 0.09493876193446141]\n",
      "\n",
      "final rank: \n",
      " [14, 13, 11, 15, 10, 12, 3, 8, 7, 2, 6, 5, 4, 1, 9]\n"
     ]
    }
   ],
   "source": [
    "x2 = PageRank(M, 0.5)\n",
    "print(\"vector x: \\n\", x2)\n",
    "print()\n",
    "l2 = [a for a in enumerate(x2)]\n",
    "l2.sort(key=lambda x:x[1], reverse=True)\n",
    "l2=[x[0]+1 for x in l2]\n",
    "print(\"final rank: \\n\", l2)"
   ]
  },
  {
   "cell_type": "markdown",
   "metadata": {},
   "source": [
    "Pages **13,11,3,2,6,5** have **increased** and Pages **15,8,7,4** have **decreased**\n",
    "\n",
    "# e)\n",
    "\n",
    "When alpha = 0, then there is no probability of following a link on a webpage. Which means all probability are assigned to teleporting to a page at random with equal probability of 1/N. Here N = 15, so each page will have a final rank of 1/15, around 0.06667."
   ]
  },
  {
   "cell_type": "markdown",
   "metadata": {},
   "source": [
    "# f)\n",
    "\n",
    "The strategy would work because the page 2 and 12 would assign more probability weight to page 7 relative to other pages, and this will increase the final rank of 7. The code below shows the increased difference from the new strategy compared to its old."
   ]
  },
  {
   "cell_type": "code",
   "execution_count": 22,
   "metadata": {},
   "outputs": [
    {
     "name": "stdout",
     "output_type": "stream",
     "text": [
      "original x: \n",
      " [0.019068724942411148, 0.02643893687196544, 0.029416689781555424, 0.02806037098313384, 0.02133817633508505, 0.02218187299280221, 0.04165129389083305, 0.04249499054855021, 0.018104208100524738, 0.08874864076363398, 0.11805340436010467, 0.08527151215450414, 0.12798716454476672, 0.18213494434972397, 0.14904906938040532]\n",
      "\n",
      "original rank: \n",
      " [13, 14, 12, 10, 9, 11, 7, 6, 2, 3, 1, 5, 4, 0, 8]\n",
      "\n",
      "new x: \n",
      " [0.019136628937455873, 0.02698120108291289, 0.04163827663291362, 0.0564555364535411, 0.02149795044107264, 0.022701410585408123, 0.04460976175127632, 0.10930714459656729, 0.018133067298418744, 0.0725284445012126, 0.13295916332750152, 0.09517089921570941, 0.0964337451466965, 0.09850019068118512, 0.14394657934812813]\n",
      "\n",
      "new rank: \n",
      " [14, 10, 7, 13, 12, 11, 9, 3, 6, 2, 1, 5, 4, 0, 8]\n"
     ]
    }
   ],
   "source": [
    "print(\"original x: \\n\",x)\n",
    "print()\n",
    "print(\"original rank: \\n\",l)\n",
    "M[7][2] = 2\n",
    "M[7][12] = 2\n",
    "x3 = PageRank(M, 0.85)\n",
    "l3 = [a for a in enumerate(x3)]\n",
    "l3.sort(key=lambda x:x[1], reverse=True)\n",
    "l3=[x[0] for x in l3]\n",
    "print()\n",
    "print(\"new x: \\n\",x3)\n",
    "print()\n",
    "print(\"new rank: \\n\", l3)"
   ]
  },
  {
   "cell_type": "code",
   "execution_count": null,
   "metadata": {},
   "outputs": [],
   "source": []
  }
 ],
 "metadata": {
  "kernelspec": {
   "display_name": "Python 3",
   "language": "python",
   "name": "python3"
  },
  "language_info": {
   "codemirror_mode": {
    "name": "ipython",
    "version": 3
   },
   "file_extension": ".py",
   "mimetype": "text/x-python",
   "name": "python",
   "nbconvert_exporter": "python",
   "pygments_lexer": "ipython3",
   "version": "3.7.2"
  }
 },
 "nbformat": 4,
 "nbformat_minor": 2
}
