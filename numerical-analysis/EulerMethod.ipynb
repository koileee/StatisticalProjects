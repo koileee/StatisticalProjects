{
 "cells": [
  {
   "cell_type": "code",
   "execution_count": 15,
   "metadata": {},
   "outputs": [],
   "source": [
    "import math\n",
    "%matplotlib inline\n",
    "#b\n",
    "def Dynamics(t,y):\n",
    "    return 0.25*math.cos(2*t)*math.exp(t/2)-math.sin(2*t)*math.exp(t/2) +4\n",
    "\n",
    "def ExactVal(t,y0,t0):\n",
    "    if t == t0:\n",
    "        return y0\n",
    "    return 0.5*math.cos(2*t)*math.exp(t/2) + 4*t + 1/2\n"
   ]
  },
  {
   "cell_type": "code",
   "execution_count": 16,
   "metadata": {},
   "outputs": [],
   "source": [
    "#c\n",
    "def ForwardEuler(t0, tfinal, N, y0):\n",
    "    h = (tfinal - t0)/N\n",
    "    t = t0\n",
    "    yk = y0\n",
    "    vector = [y0]\n",
    "    for k in range(N):\n",
    "        yk = yk + h*Dynamics(t, yk)\n",
    "        t = t+h\n",
    "        vector.append(yk)\n",
    "    return vector\n",
    "            "
   ]
  },
  {
   "cell_type": "code",
   "execution_count": 17,
   "metadata": {},
   "outputs": [
    {
     "data": {
      "text/plain": [
       "<matplotlib.legend.Legend at 0x112fb4a58>"
      ]
     },
     "execution_count": 17,
     "metadata": {},
     "output_type": "execute_result"
    },
    {
     "data": {
      "image/png": "[encoded data removed]",
      "text/plain": [
       "<Figure size 432x288 with 1 Axes>"
      ]
     },
     "metadata": {
      "needs_background": "light"
     },
     "output_type": "display_data"
    }
   ],
   "source": [
    "#d\n",
    "import numpy as np\n",
    "import matplotlib.pyplot as plt\n",
    "times = np.arange(0,0.3,0.05)\n",
    "exactVals = [ExactVal(t, 1,0) for t in times]\n",
    "forward_euler = ForwardEuler(0,0.25,5,1)\n",
    "\n",
    "plt.plot(times, exactVals)\n",
    "plt.plot(times, forward_euler,'+')\n",
    "plt.title(\"Forward Euler Approximation\")\n",
    "plt.legend([\"analytical\", \"numerical\"])"
   ]
  },
  {
   "cell_type": "code",
   "execution_count": 23,
   "metadata": {},
   "outputs": [],
   "source": [
    "#e\n",
    "def ImprovedEuler(t0, tfinal, N, y0):\n",
    "    h = (tfinal - t0)/N\n",
    "    t = t0\n",
    "    yk = y0\n",
    "    vector = [y0]\n",
    "    for k in range(N):\n",
    "        yk_temp = yk + h*Dynamics(t, yk)\n",
    "        yk = yk + (h/2)*(Dynamics(t, yk) + Dynamics(t+h, yk_temp))\n",
    "        t = t+h\n",
    "        vector.append(yk)\n",
    "    return vector"
   ]
  },
  {
   "cell_type": "code",
   "execution_count": 24,
   "metadata": {},
   "outputs": [
    {
     "data": {
      "text/plain": [
       "<matplotlib.legend.Legend at 0x11ca28c50>"
      ]
     },
     "execution_count": 24,
     "metadata": {},
     "output_type": "execute_result"
    },
    {
     "data": {
      "image/png": "[encoded data removed]",
      "text/plain": [
       "<Figure size 432x288 with 1 Axes>"
      ]
     },
     "metadata": {
      "needs_background": "light"
     },
     "output_type": "display_data"
    }
   ],
   "source": [
    "#f\n",
    "\n",
    "times = np.arange(0,0.3,0.05)\n",
    "exactVals = [ExactVal(t, 1,0) for t in times]\n",
    "improved_euler = ImprovedEuler(0,0.25,5,1)\n",
    "\n",
    "plt.plot(times, exactVals)\n",
    "plt.plot(times, improved_euler,'+')\n",
    "plt.title(\"Improved Euler Approximation\")\n",
    "plt.legend([\"analytical\", \"numerical\"])"
   ]
  },
  {
   "cell_type": "code",
   "execution_count": 25,
   "metadata": {},
   "outputs": [
    {
     "data": {
      "text/html": [
       "<div>\n",
       "<style scoped>\n",
       "    .dataframe tbody tr th:only-of-type {\n",
       "        vertical-align: middle;\n",
       "    }\n",
       "\n",
       "    .dataframe tbody tr th {\n",
       "        vertical-align: top;\n",
       "    }\n",
       "\n",
       "    .dataframe thead th {\n",
       "        text-align: right;\n",
       "    }\n",
       "</style>\n",
       "<table border=\"1\" class=\"dataframe\">\n",
       "  <thead>\n",
       "    <tr style=\"text-align: right;\">\n",
       "      <th></th>\n",
       "      <th>i</th>\n",
       "      <th>error</th>\n",
       "      <th>ratio</th>\n",
       "    </tr>\n",
       "  </thead>\n",
       "  <tbody>\n",
       "    <tr>\n",
       "      <th>0</th>\n",
       "      <td>0</td>\n",
       "      <td>0.013505</td>\n",
       "      <td>NaN</td>\n",
       "    </tr>\n",
       "    <tr>\n",
       "      <th>1</th>\n",
       "      <td>1</td>\n",
       "      <td>0.006780</td>\n",
       "      <td>0.502056</td>\n",
       "    </tr>\n",
       "    <tr>\n",
       "      <th>2</th>\n",
       "      <td>2</td>\n",
       "      <td>0.003397</td>\n",
       "      <td>0.501023</td>\n",
       "    </tr>\n",
       "    <tr>\n",
       "      <th>3</th>\n",
       "      <td>3</td>\n",
       "      <td>0.001700</td>\n",
       "      <td>0.500511</td>\n",
       "    </tr>\n",
       "    <tr>\n",
       "      <th>4</th>\n",
       "      <td>4</td>\n",
       "      <td>0.000851</td>\n",
       "      <td>0.500255</td>\n",
       "    </tr>\n",
       "    <tr>\n",
       "      <th>5</th>\n",
       "      <td>5</td>\n",
       "      <td>0.000425</td>\n",
       "      <td>0.500127</td>\n",
       "    </tr>\n",
       "    <tr>\n",
       "      <th>6</th>\n",
       "      <td>6</td>\n",
       "      <td>0.000213</td>\n",
       "      <td>0.500064</td>\n",
       "    </tr>\n",
       "    <tr>\n",
       "      <th>7</th>\n",
       "      <td>7</td>\n",
       "      <td>0.000106</td>\n",
       "      <td>0.500032</td>\n",
       "    </tr>\n",
       "    <tr>\n",
       "      <th>8</th>\n",
       "      <td>8</td>\n",
       "      <td>0.000053</td>\n",
       "      <td>0.500016</td>\n",
       "    </tr>\n",
       "  </tbody>\n",
       "</table>\n",
       "</div>"
      ],
      "text/plain": [
       "   i     error     ratio\n",
       "0  0  0.013505       NaN\n",
       "1  1  0.006780  0.502056\n",
       "2  2  0.003397  0.501023\n",
       "3  3  0.001700  0.500511\n",
       "4  4  0.000851  0.500255\n",
       "5  5  0.000425  0.500127\n",
       "6  6  0.000213  0.500064\n",
       "7  7  0.000106  0.500032\n",
       "8  8  0.000053  0.500016"
      ]
     },
     "execution_count": 25,
     "metadata": {},
     "output_type": "execute_result"
    }
   ],
   "source": [
    "#g\n",
    "import pandas as pd\n",
    "\n",
    "Ns = [5*(2**i) for i in range(9)]\n",
    "i = [i for i in range(9)]\n",
    "error = []\n",
    "ratio = [None]\n",
    "exact = ExactVal(0.25, 1,0)\n",
    "\n",
    "for j in range(9):\n",
    "    N = Ns[j]\n",
    "    estimate = ForwardEuler(0, 0.25, N, 1)[-1]\n",
    "    err = np.abs(exact - estimate)\n",
    "    if j != 0:\n",
    "        rat = err/error[-1]\n",
    "        ratio.append(rat)\n",
    "    error.append(err)\n",
    "    \n",
    "\n",
    "pd.DataFrame({\"i\":i, \"error\":error, \"ratio\":ratio})\n",
    "    "
   ]
  },
  {
   "cell_type": "markdown",
   "metadata": {},
   "source": [
    "The order of the Euler Forward  method appears to be 1, as h decreases by half, the error also reduces by a factor of 2. $\\frac{1}{2^p} \\approx 0.5 -> p \\approx 1$ "
   ]
  },
  {
   "cell_type": "code",
   "execution_count": 26,
   "metadata": {},
   "outputs": [
    {
     "data": {
      "text/html": [
       "<div>\n",
       "<style scoped>\n",
       "    .dataframe tbody tr th:only-of-type {\n",
       "        vertical-align: middle;\n",
       "    }\n",
       "\n",
       "    .dataframe tbody tr th {\n",
       "        vertical-align: top;\n",
       "    }\n",
       "\n",
       "    .dataframe thead th {\n",
       "        text-align: right;\n",
       "    }\n",
       "</style>\n",
       "<table border=\"1\" class=\"dataframe\">\n",
       "  <thead>\n",
       "    <tr style=\"text-align: right;\">\n",
       "      <th></th>\n",
       "      <th>i</th>\n",
       "      <th>error</th>\n",
       "      <th>ratio</th>\n",
       "    </tr>\n",
       "  </thead>\n",
       "  <tbody>\n",
       "    <tr>\n",
       "      <th>0</th>\n",
       "      <td>0</td>\n",
       "      <td>1.110391e-04</td>\n",
       "      <td>NaN</td>\n",
       "    </tr>\n",
       "    <tr>\n",
       "      <th>1</th>\n",
       "      <td>1</td>\n",
       "      <td>2.775319e-05</td>\n",
       "      <td>0.249941</td>\n",
       "    </tr>\n",
       "    <tr>\n",
       "      <th>2</th>\n",
       "      <td>2</td>\n",
       "      <td>6.937885e-06</td>\n",
       "      <td>0.249985</td>\n",
       "    </tr>\n",
       "    <tr>\n",
       "      <th>3</th>\n",
       "      <td>3</td>\n",
       "      <td>1.734446e-06</td>\n",
       "      <td>0.249996</td>\n",
       "    </tr>\n",
       "    <tr>\n",
       "      <th>4</th>\n",
       "      <td>4</td>\n",
       "      <td>4.336098e-07</td>\n",
       "      <td>0.249999</td>\n",
       "    </tr>\n",
       "    <tr>\n",
       "      <th>5</th>\n",
       "      <td>5</td>\n",
       "      <td>1.084023e-07</td>\n",
       "      <td>0.250000</td>\n",
       "    </tr>\n",
       "    <tr>\n",
       "      <th>6</th>\n",
       "      <td>6</td>\n",
       "      <td>2.710058e-08</td>\n",
       "      <td>0.250000</td>\n",
       "    </tr>\n",
       "    <tr>\n",
       "      <th>7</th>\n",
       "      <td>7</td>\n",
       "      <td>6.775145e-09</td>\n",
       "      <td>0.250000</td>\n",
       "    </tr>\n",
       "    <tr>\n",
       "      <th>8</th>\n",
       "      <td>8</td>\n",
       "      <td>1.693784e-09</td>\n",
       "      <td>0.250000</td>\n",
       "    </tr>\n",
       "  </tbody>\n",
       "</table>\n",
       "</div>"
      ],
      "text/plain": [
       "   i         error     ratio\n",
       "0  0  1.110391e-04       NaN\n",
       "1  1  2.775319e-05  0.249941\n",
       "2  2  6.937885e-06  0.249985\n",
       "3  3  1.734446e-06  0.249996\n",
       "4  4  4.336098e-07  0.249999\n",
       "5  5  1.084023e-07  0.250000\n",
       "6  6  2.710058e-08  0.250000\n",
       "7  7  6.775145e-09  0.250000\n",
       "8  8  1.693784e-09  0.250000"
      ]
     },
     "execution_count": 26,
     "metadata": {},
     "output_type": "execute_result"
    }
   ],
   "source": [
    "#h\n",
    "\n",
    "Ns = [5*(2**i) for i in range(9)]\n",
    "i = [i for i in range(9)]\n",
    "error = []\n",
    "ratio = [None]\n",
    "exact = ExactVal(0.25, 1,0)\n",
    "\n",
    "for j in range(9):\n",
    "    N = Ns[j]\n",
    "    estimate = ImprovedEuler(0, 0.25, N, 1)[-1]\n",
    "    err = np.abs(exact - estimate)\n",
    "    if j != 0:\n",
    "        rat = err/error[-1]\n",
    "        ratio.append(rat)\n",
    "    error.append(err)\n",
    "    \n",
    "\n",
    "pd.DataFrame({\"i\":i, \"error\":error, \"ratio\":ratio})"
   ]
  },
  {
   "cell_type": "markdown",
   "metadata": {},
   "source": [
    "The order of the Euler Forward  method appears to be 2, as h decreases by half, the error reduces by a factor of 4.  $\\frac{1}{2^p} \\approx 0.25 -> p \\approx 2$ "
   ]
  },
  {
   "cell_type": "code",
   "execution_count": null,
   "metadata": {},
   "outputs": [],
   "source": []
  },
  {
   "cell_type": "code",
   "execution_count": null,
   "metadata": {},
   "outputs": [],
   "source": []
  }
 ],
 "metadata": {
  "kernelspec": {
   "display_name": "Python 3",
   "language": "python",
   "name": "python3"
  },
  "language_info": {
   "codemirror_mode": {
    "name": "ipython",
    "version": 3
   },
   "file_extension": ".py",
   "mimetype": "text/x-python",
   "name": "python",
   "nbconvert_exporter": "python",
   "pygments_lexer": "ipython3",
   "version": "3.7.2"
  }
 },
 "nbformat": 4,
 "nbformat_minor": 2
}
