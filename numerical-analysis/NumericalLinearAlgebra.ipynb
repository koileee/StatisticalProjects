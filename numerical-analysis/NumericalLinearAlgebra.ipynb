{
 "cells": [
  {
   "cell_type": "markdown",
   "metadata": {},
   "source": [
    "**A**"
   ]
  },
  {
   "cell_type": "code",
   "execution_count": 1,
   "metadata": {},
   "outputs": [],
   "source": [
    "#a)\n",
    "def GE(A,b):\n",
    "    n = len(A)\n",
    "    U=A.copy()\n",
    "    L=[[0]*n for i in range(n)]\n",
    "    for i in range(n):\n",
    "        L[i][i]= 1\n",
    "    for i in range(n):\n",
    "        aii = U[i][i]\n",
    "        for j in range(i+1,n):\n",
    "            aji = U[j][i]\n",
    "            L[j][i] = aji/aii\n",
    "            for k in range(n):\n",
    "                U[j][k] = -U[i][k]*aji/aii+U[j][k]\n",
    "    #forwardsolve Ly=b\n",
    "    y=[0]*n\n",
    "    for i in range(n):\n",
    "        y[i] = b[i]\n",
    "        for j in range(i):\n",
    "            y[i] = y[i] - L[i][j]*y[j]\n",
    "            \n",
    "    #backward solve Ux = y\n",
    "    x=[0]*n\n",
    "    for i in range(n-1,-1,-1):\n",
    "        x[i] = y[i]\n",
    "        for j in range(i+1,n):\n",
    "            x[i] = x[i] - U[i][j]*x[j]\n",
    "        x[i] = x[i]/U[i][i]\n",
    "        \n",
    "    return [x,L,U]"
   ]
  },
  {
   "cell_type": "markdown",
   "metadata": {},
   "source": [
    "**B**"
   ]
  },
  {
   "cell_type": "code",
   "execution_count": 11,
   "metadata": {},
   "outputs": [],
   "source": [
    "#b)\n",
    "import scipy.linalg as l\n",
    "import numpy as np\n",
    "h = l.hilbert(10)\n",
    "z = np.ones((10,1))\n",
    "b=np.matmul(h,z)"
   ]
  },
  {
   "cell_type": "markdown",
   "metadata": {},
   "source": [
    "**L MATRIX**"
   ]
  },
  {
   "cell_type": "code",
   "execution_count": 12,
   "metadata": {},
   "outputs": [
    {
     "data": {
      "text/plain": [
       "array([[1.000, 0.000, 0.000, 0.000, 0.000, 0.000, 0.000, 0.000, 0.000, 0.000],\n",
       "       [0.500, 1.000, 0.000, 0.000, 0.000, 0.000, 0.000, 0.000, 0.000, 0.000],\n",
       "       [0.333, 1.000, 1.000, 0.000, 0.000, 0.000, 0.000, 0.000, 0.000, 0.000],\n",
       "       [0.250, 0.900, 1.500, 1.000, 0.000, 0.000, 0.000, 0.000, 0.000, 0.000],\n",
       "       [0.200, 0.800, 1.714, 2.000, 1.000, 0.000, 0.000, 0.000, 0.000, 0.000],\n",
       "       [0.167, 0.714, 1.786, 2.778, 2.500, 1.000, 0.000, 0.000, 0.000, 0.000],\n",
       "       [0.143, 0.643, 1.786, 3.333, 4.091, 3.000, 1.000, 0.000, 0.000, 0.000],\n",
       "       [0.125, 0.583, 1.750, 3.712, 5.568, 5.654, 3.500, 1.000, 0.000, 0.000],\n",
       "       [0.111, 0.533, 1.697, 3.960, 6.853, 8.615, 7.467, 4.000, 1.000, 0.000],\n",
       "       [0.100, 0.491, 1.636, 4.112, 7.930, 11.631, 12.600, 9.529, 4.500, 1.000]])"
      ]
     },
     "execution_count": 12,
     "metadata": {},
     "output_type": "execute_result"
    }
   ],
   "source": [
    "np.set_printoptions(formatter={'float': lambda x: \"{0:0.3f}\".format(x)},linewidth=np.inf)\n",
    "np.array(GE(h,b)[1])"
   ]
  },
  {
   "cell_type": "markdown",
   "metadata": {},
   "source": [
    "**U MATRIX**"
   ]
  },
  {
   "cell_type": "code",
   "execution_count": 13,
   "metadata": {},
   "outputs": [
    {
     "data": {
      "text/plain": [
       "array([[1.000, 0.500, 0.333, 0.250, 0.200, 0.167, 0.143, 0.125, 0.111, 0.100],\n",
       "       [0.000, 0.083, 0.083, 0.075, 0.067, 0.060, 0.054, 0.049, 0.044, 0.041],\n",
       "       [0.000, 0.000, 0.006, 0.008, 0.010, 0.010, 0.010, 0.010, 0.009, 0.009],\n",
       "       [0.000, 0.000, 0.000, 0.000, 0.001, 0.001, 0.001, 0.001, 0.001, 0.001],\n",
       "       [0.000, 0.000, 0.000, 0.000, 0.000, 0.000, 0.000, 0.000, 0.000, 0.000],\n",
       "       [0.000, 0.000, 0.000, 0.000, 0.000, 0.000, 0.000, 0.000, 0.000, 0.000],\n",
       "       [0.000, -0.000, 0.000, 0.000, 0.000, 0.000, 0.000, 0.000, 0.000, 0.000],\n",
       "       [0.000, 0.000, 0.000, 0.000, 0.000, 0.000, 0.000, 0.000, 0.000, 0.000],\n",
       "       [0.000, -0.000, 0.000, -0.000, 0.000, 0.000, 0.000, 0.000, 0.000, 0.000],\n",
       "       [0.000, 0.000, 0.000, 0.000, 0.000, 0.000, 0.000, 0.000, 0.000, 0.000]])"
      ]
     },
     "execution_count": 13,
     "metadata": {},
     "output_type": "execute_result"
    }
   ],
   "source": [
    "np.array(GE(h,b)[2])"
   ]
  },
  {
   "cell_type": "markdown",
   "metadata": {},
   "source": [
    "**x**"
   ]
  },
  {
   "cell_type": "code",
   "execution_count": 14,
   "metadata": {},
   "outputs": [
    {
     "data": {
      "text/plain": [
       "array([[1.000000000438575],\n",
       "       [0.999999962349414],\n",
       "       [1.00000079744797 ],\n",
       "       [0.999992785418523],\n",
       "       [1.000034268596861],\n",
       "       [0.999906137184279],\n",
       "       [1.000153512202063],\n",
       "       [0.999852062168331],\n",
       "       [1.000077474058709],\n",
       "       [0.999982999849781]])"
      ]
     },
     "execution_count": 14,
     "metadata": {},
     "output_type": "execute_result"
    }
   ],
   "source": [
    "np.set_printoptions(precision=15)\n",
    "np.array(GE(h,b)[0])"
   ]
  },
  {
   "cell_type": "code",
   "execution_count": null,
   "metadata": {},
   "outputs": [],
   "source": []
  }
 ],
 "metadata": {
  "kernelspec": {
   "display_name": "Python 3",
   "language": "python",
   "name": "python3"
  },
  "language_info": {
   "codemirror_mode": {
    "name": "ipython",
    "version": 3
   },
   "file_extension": ".py",
   "mimetype": "text/x-python",
   "name": "python",
   "nbconvert_exporter": "python",
   "pygments_lexer": "ipython3",
   "version": "3.7.2"
  }
 },
 "nbformat": 4,
 "nbformat_minor": 2
}
